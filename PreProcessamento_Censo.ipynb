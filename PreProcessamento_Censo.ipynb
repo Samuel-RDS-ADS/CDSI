{
  "nbformat": 4,
  "nbformat_minor": 0,
  "metadata": {
    "colab": {
      "provenance": [],
      "authorship_tag": "ABX9TyNPSYSkDeZaCKGFQdBSHuWu"
    },
    "kernelspec": {
      "name": "python3",
      "display_name": "Python 3"
    },
    "language_info": {
      "name": "python"
    }
  },
  "cells": [
    {
      "cell_type": "markdown",
      "source": [
        "## Ligando o GoogleDrive"
      ],
      "metadata": {
        "id": "621jsBao2Dyp"
      }
    },
    {
      "cell_type": "code",
      "source": [
        "from google.colab import drive\n",
        "drive.mount('/content/drive')\n",
        "caminho = \"/content/drive/MyDrive/CDSI/MaterialApoio/\""
      ],
      "metadata": {
        "colab": {
          "base_uri": "https://localhost:8080/"
        },
        "id": "ie5ulgc72JJB",
        "outputId": "361aff96-25b5-453c-b7df-566a22a54ea6"
      },
      "execution_count": 2,
      "outputs": [
        {
          "output_type": "stream",
          "name": "stdout",
          "text": [
            "Mounted at /content/drive\n"
          ]
        }
      ]
    },
    {
      "cell_type": "markdown",
      "source": [
        "## Bibliotecas"
      ],
      "metadata": {
        "id": "EID6P4O015hf"
      }
    },
    {
      "cell_type": "code",
      "execution_count": 3,
      "metadata": {
        "id": "zJkENP0n1uBq"
      },
      "outputs": [],
      "source": [
        "import pandas as pd\n",
        "import numpy as np\n",
        "import seaborn as sns\n",
        "import matplotlib.pyplot as plt\n",
        "import plotly.express as px\n",
        "from sklearn.preprocessing import LabelEncoder\n",
        "from sklearn.preprocessing import StandardScaler\n",
        "from sklearn.preprocessing import OneHotEncoder\n",
        "from sklearn.compose import ColumnTransformer\n",
        "from sklearn.model_selection import train_test_split\n",
        "import pickle"
      ]
    },
    {
      "cell_type": "code",
      "source": [
        "base_censo = pd.read_csv(caminho + \"census.csv\")"
      ],
      "metadata": {
        "id": "3ToshFD2IWEG"
      },
      "execution_count": 4,
      "outputs": []
    },
    {
      "cell_type": "code",
      "source": [
        "# age - discreta\n",
        "# workclass(não ordinal é nominal)\n",
        "# final - é continua\n",
        "# education - ordinal (interpretação)\n",
        "# Anos - é discreto (número de anos)\n",
        "# estado civil, posição na familia - nominal\n",
        "# ocupação, raça, sexo - nominais\n",
        "# horas trabalhadas - discreta\n",
        "# pais - nominal\n",
        "# classe - é ordinal\n",
        "base_censo.describe()"
      ],
      "metadata": {
        "id": "DJT609Y2IYOl"
      },
      "execution_count": null,
      "outputs": []
    },
    {
      "cell_type": "code",
      "source": [
        "base_censo.isnull().sum()"
      ],
      "metadata": {
        "colab": {
          "base_uri": "https://localhost:8080/",
          "height": 554
        },
        "id": "TrH53H3bIaEu",
        "outputId": "b13b7c1d-05dd-4a32-c349-c0f680bdd8f1"
      },
      "execution_count": 5,
      "outputs": [
        {
          "output_type": "execute_result",
          "data": {
            "text/plain": [
              "age               0\n",
              "workclass         0\n",
              "final-weight      0\n",
              "education         0\n",
              "education-num     0\n",
              "marital-status    0\n",
              "occupation        0\n",
              "relationship      0\n",
              "race              0\n",
              "sex               0\n",
              "capital-gain      0\n",
              "capital-loos      0\n",
              "hour-per-week     0\n",
              "native-country    0\n",
              "income            0\n",
              "dtype: int64"
            ],
            "text/html": [
              "<div>\n",
              "<style scoped>\n",
              "    .dataframe tbody tr th:only-of-type {\n",
              "        vertical-align: middle;\n",
              "    }\n",
              "\n",
              "    .dataframe tbody tr th {\n",
              "        vertical-align: top;\n",
              "    }\n",
              "\n",
              "    .dataframe thead th {\n",
              "        text-align: right;\n",
              "    }\n",
              "</style>\n",
              "<table border=\"1\" class=\"dataframe\">\n",
              "  <thead>\n",
              "    <tr style=\"text-align: right;\">\n",
              "      <th></th>\n",
              "      <th>0</th>\n",
              "    </tr>\n",
              "  </thead>\n",
              "  <tbody>\n",
              "    <tr>\n",
              "      <th>age</th>\n",
              "      <td>0</td>\n",
              "    </tr>\n",
              "    <tr>\n",
              "      <th>workclass</th>\n",
              "      <td>0</td>\n",
              "    </tr>\n",
              "    <tr>\n",
              "      <th>final-weight</th>\n",
              "      <td>0</td>\n",
              "    </tr>\n",
              "    <tr>\n",
              "      <th>education</th>\n",
              "      <td>0</td>\n",
              "    </tr>\n",
              "    <tr>\n",
              "      <th>education-num</th>\n",
              "      <td>0</td>\n",
              "    </tr>\n",
              "    <tr>\n",
              "      <th>marital-status</th>\n",
              "      <td>0</td>\n",
              "    </tr>\n",
              "    <tr>\n",
              "      <th>occupation</th>\n",
              "      <td>0</td>\n",
              "    </tr>\n",
              "    <tr>\n",
              "      <th>relationship</th>\n",
              "      <td>0</td>\n",
              "    </tr>\n",
              "    <tr>\n",
              "      <th>race</th>\n",
              "      <td>0</td>\n",
              "    </tr>\n",
              "    <tr>\n",
              "      <th>sex</th>\n",
              "      <td>0</td>\n",
              "    </tr>\n",
              "    <tr>\n",
              "      <th>capital-gain</th>\n",
              "      <td>0</td>\n",
              "    </tr>\n",
              "    <tr>\n",
              "      <th>capital-loos</th>\n",
              "      <td>0</td>\n",
              "    </tr>\n",
              "    <tr>\n",
              "      <th>hour-per-week</th>\n",
              "      <td>0</td>\n",
              "    </tr>\n",
              "    <tr>\n",
              "      <th>native-country</th>\n",
              "      <td>0</td>\n",
              "    </tr>\n",
              "    <tr>\n",
              "      <th>income</th>\n",
              "      <td>0</td>\n",
              "    </tr>\n",
              "  </tbody>\n",
              "</table>\n",
              "</div><br><label><b>dtype:</b> int64</label>"
            ]
          },
          "metadata": {},
          "execution_count": 5
        }
      ]
    },
    {
      "cell_type": "markdown",
      "source": [
        "## Divisão entre Previsores e classe"
      ],
      "metadata": {
        "id": "ImU_z-MxHpt-"
      }
    },
    {
      "cell_type": "code",
      "source": [
        "base_censo.columns"
      ],
      "metadata": {
        "colab": {
          "base_uri": "https://localhost:8080/"
        },
        "id": "8Wx_ytDkHu5_",
        "outputId": "fe78aa99-35f0-4059-ae6d-7b557299db3c"
      },
      "execution_count": 6,
      "outputs": [
        {
          "output_type": "execute_result",
          "data": {
            "text/plain": [
              "Index(['age', 'workclass', 'final-weight', 'education', 'education-num',\n",
              "       'marital-status', 'occupation', 'relationship', 'race', 'sex',\n",
              "       'capital-gain', 'capital-loos', 'hour-per-week', 'native-country',\n",
              "       'income'],\n",
              "      dtype='object')"
            ]
          },
          "metadata": {},
          "execution_count": 6
        }
      ]
    },
    {
      "cell_type": "code",
      "source": [
        "X_census = base_censo.iloc[:, 0:14].values"
      ],
      "metadata": {
        "id": "UUwT8lVRHzat"
      },
      "execution_count": 17,
      "outputs": []
    },
    {
      "cell_type": "code",
      "source": [
        "X_census"
      ],
      "metadata": {
        "colab": {
          "base_uri": "https://localhost:8080/"
        },
        "id": "5J0lkVB7IdV1",
        "outputId": "25de1f13-b79a-4cff-802f-1c45327b11fb"
      },
      "execution_count": 18,
      "outputs": [
        {
          "output_type": "execute_result",
          "data": {
            "text/plain": [
              "array([[39, ' State-gov', 77516, ..., 0, 40, ' United-States'],\n",
              "       [50, ' Self-emp-not-inc', 83311, ..., 0, 13, ' United-States'],\n",
              "       [38, ' Private', 215646, ..., 0, 40, ' United-States'],\n",
              "       ...,\n",
              "       [58, ' Private', 151910, ..., 0, 40, ' United-States'],\n",
              "       [22, ' Private', 201490, ..., 0, 20, ' United-States'],\n",
              "       [52, ' Self-emp-inc', 287927, ..., 0, 40, ' United-States']],\n",
              "      dtype=object)"
            ]
          },
          "metadata": {},
          "execution_count": 18
        }
      ]
    },
    {
      "cell_type": "code",
      "source": [
        "y_census = base_censo.iloc[:, 14].values"
      ],
      "metadata": {
        "id": "40GLDLUsIefl"
      },
      "execution_count": 12,
      "outputs": []
    },
    {
      "cell_type": "code",
      "source": [
        "y_census"
      ],
      "metadata": {
        "colab": {
          "base_uri": "https://localhost:8080/"
        },
        "id": "x_qomJ7dIhGt",
        "outputId": "3e424adf-4c34-44fb-8612-e15dee868711"
      },
      "execution_count": 13,
      "outputs": [
        {
          "output_type": "execute_result",
          "data": {
            "text/plain": [
              "array([' <=50K', ' <=50K', ' <=50K', ..., ' <=50K', ' <=50K', ' >50K'],\n",
              "      dtype=object)"
            ]
          },
          "metadata": {},
          "execution_count": 13
        }
      ]
    },
    {
      "cell_type": "markdown",
      "source": [
        "## Tratamento de atributos categóricos"
      ],
      "metadata": {
        "id": "VpcbvsHnH7D2"
      }
    },
    {
      "cell_type": "markdown",
      "source": [
        "## LablEncoder\n",
        "Tranforma em números inteiros de cada atributo categórico não binario (mais de 2 categrias)"
      ],
      "metadata": {
        "id": "uv9pbqtjIEIM"
      }
    },
    {
      "cell_type": "code",
      "source": [
        "X_census[:,1]"
      ],
      "metadata": {
        "colab": {
          "base_uri": "https://localhost:8080/"
        },
        "id": "9pnVUULJIu2n",
        "outputId": "541a85b2-11c1-4b33-b806-190361cdf373"
      },
      "execution_count": 19,
      "outputs": [
        {
          "output_type": "execute_result",
          "data": {
            "text/plain": [
              "array([' State-gov', ' Self-emp-not-inc', ' Private', ..., ' Private',\n",
              "       ' Private', ' Self-emp-inc'], dtype=object)"
            ]
          },
          "metadata": {},
          "execution_count": 19
        }
      ]
    },
    {
      "cell_type": "code",
      "source": [
        "label_encoder_teste = LabelEncoder()\n",
        "teste = label_encoder_teste.fit_transform(X_census[:,1])\n",
        "teste"
      ],
      "metadata": {
        "colab": {
          "base_uri": "https://localhost:8080/"
        },
        "id": "-kfxqHSzIxon",
        "outputId": "e03192ee-bcab-4bbe-9eb2-703d798af776"
      },
      "execution_count": 20,
      "outputs": [
        {
          "output_type": "execute_result",
          "data": {
            "text/plain": [
              "array([7, 6, 4, ..., 4, 4, 5])"
            ]
          },
          "metadata": {},
          "execution_count": 20
        }
      ]
    },
    {
      "cell_type": "code",
      "source": [
        "X_census[0]"
      ],
      "metadata": {
        "colab": {
          "base_uri": "https://localhost:8080/"
        },
        "id": "3jptOHvxJFTg",
        "outputId": "a9785b5b-e98b-40aa-cb70-8c6bf7e3959e"
      },
      "execution_count": 24,
      "outputs": [
        {
          "output_type": "execute_result",
          "data": {
            "text/plain": [
              "array([39, 7, 77516, ' Bachelors', 13, ' Never-married', ' Adm-clerical',\n",
              "       ' Not-in-family', ' White', ' Male', 2174, 0, 40, ' United-States'],\n",
              "      dtype=object)"
            ]
          },
          "metadata": {},
          "execution_count": 24
        }
      ]
    },
    {
      "cell_type": "code",
      "source": [
        "label_encoder_workclass = LabelEncoder()\n",
        "label_encoder_education = LabelEncoder()\n",
        "label_encoder_marital = LabelEncoder()\n",
        "label_encoder_occupation = LabelEncoder()\n",
        "label_encoder_relationship = LabelEncoder()\n",
        "label_encoder_race = LabelEncoder()\n",
        "label_encoder_sex = LabelEncoder()\n",
        "label_encoder_country = LabelEncoder()"
      ],
      "metadata": {
        "id": "anKTKV8UR8J1"
      },
      "execution_count": 25,
      "outputs": []
    },
    {
      "cell_type": "code",
      "source": [
        "X_census [:,1] = label_encoder_workclass.fit_transform(X_census[:,1])\n",
        "X_census [:,3] = label_encoder_education.fit_transform(X_census[:,3])\n",
        "X_census [:,5] = label_encoder_marital.fit_transform(X_census[:,5])\n",
        "X_census [:,6] = label_encoder_occupation.fit_transform(X_census [:,6])\n",
        "X_census [:,7] = label_encoder_relationship.fit_transform(X_census[:,7])\n",
        "X_census [:,8] = label_encoder_race.fit_transform(X_census[:,8])\n",
        "X_census [:,9] = label_encoder_sex.fit_transform(X_census[:,9])\n",
        "X_census [:,13] = label_encoder_country.fit_transform(X_census[:,13])"
      ],
      "metadata": {
        "id": "kqXD69WhSnJJ"
      },
      "execution_count": 26,
      "outputs": []
    },
    {
      "cell_type": "code",
      "source": [
        "X_census[0]"
      ],
      "metadata": {
        "colab": {
          "base_uri": "https://localhost:8080/"
        },
        "id": "g-DUF0utUYA2",
        "outputId": "84414357-6018-4858-f1e5-5e2a3ec99571"
      },
      "execution_count": 27,
      "outputs": [
        {
          "output_type": "execute_result",
          "data": {
            "text/plain": [
              "array([39, 7, 77516, 9, 13, 4, 1, 1, 4, 1, 2174, 0, 40, 39], dtype=object)"
            ]
          },
          "metadata": {},
          "execution_count": 27
        }
      ]
    },
    {
      "cell_type": "code",
      "source": [
        "X_census"
      ],
      "metadata": {
        "colab": {
          "base_uri": "https://localhost:8080/"
        },
        "id": "PQ9RfjfBUaI1",
        "outputId": "6b913200-eb6a-4dc7-9a5d-d5e60cbcb4c9"
      },
      "execution_count": 28,
      "outputs": [
        {
          "output_type": "execute_result",
          "data": {
            "text/plain": [
              "array([[39, 7, 77516, ..., 0, 40, 39],\n",
              "       [50, 6, 83311, ..., 0, 13, 39],\n",
              "       [38, 4, 215646, ..., 0, 40, 39],\n",
              "       ...,\n",
              "       [58, 4, 151910, ..., 0, 40, 39],\n",
              "       [22, 4, 201490, ..., 0, 20, 39],\n",
              "       [52, 5, 287927, ..., 0, 40, 39]], dtype=object)"
            ]
          },
          "metadata": {},
          "execution_count": 28
        }
      ]
    },
    {
      "cell_type": "markdown",
      "source": [
        "## OneHotEncoder\n",
        "Trasforma em números binarios (0 e 1) as categorias de cada atributo categórico não binário (mais de 2 categorias). Cada categoria de um atributo se transforma em uma nova coluna(atributo). Exemplo: atributo 'workclass' com 9 categorias se transforma em 9 novos atributos. Cada linha terá valor 1 na coluna referente à categoria original e 0 nas outras colunas."
      ],
      "metadata": {
        "id": "8QMi35DUUwC2"
      }
    },
    {
      "cell_type": "code",
      "source": [
        "np.unique(base_censo['workclass'])"
      ],
      "metadata": {
        "colab": {
          "base_uri": "https://localhost:8080/"
        },
        "id": "ly8y1lBUV-tN",
        "outputId": "6e4688e3-e3f0-4762-c237-fcb486655e9e"
      },
      "execution_count": 29,
      "outputs": [
        {
          "output_type": "execute_result",
          "data": {
            "text/plain": [
              "array([' ?', ' Federal-gov', ' Local-gov', ' Never-worked', ' Private',\n",
              "       ' Self-emp-inc', ' Self-emp-not-inc', ' State-gov', ' Without-pay'],\n",
              "      dtype=object)"
            ]
          },
          "metadata": {},
          "execution_count": 29
        }
      ]
    },
    {
      "cell_type": "code",
      "source": [
        "len(np.unique(base_censo['workclass']))"
      ],
      "metadata": {
        "colab": {
          "base_uri": "https://localhost:8080/"
        },
        "id": "dkl5VwgPWIbG",
        "outputId": "d53eacb3-0dff-40bd-a292-176a27653781"
      },
      "execution_count": 30,
      "outputs": [
        {
          "output_type": "execute_result",
          "data": {
            "text/plain": [
              "9"
            ]
          },
          "metadata": {},
          "execution_count": 30
        }
      ]
    },
    {
      "cell_type": "code",
      "source": [
        "len(np.unique(base_censo['occupation']))"
      ],
      "metadata": {
        "colab": {
          "base_uri": "https://localhost:8080/"
        },
        "id": "LE7ptRAEWJ_n",
        "outputId": "67fefcf8-96ca-487e-ddc3-22774c3cb183"
      },
      "execution_count": 31,
      "outputs": [
        {
          "output_type": "execute_result",
          "data": {
            "text/plain": [
              "15"
            ]
          },
          "metadata": {},
          "execution_count": 31
        }
      ]
    },
    {
      "cell_type": "code",
      "source": [
        "# as outras colunas serão apagadas\n",
        "onehotencoder = ColumnTransformer(transformers=[('OneHot', OneHotEncoder(), [1,3,5,6,7,8,9,13])], remainder='passthrough')"
      ],
      "metadata": {
        "id": "IdlOyCc5WRbX"
      },
      "execution_count": 35,
      "outputs": []
    },
    {
      "cell_type": "code",
      "source": [
        "X_census = onehotencoder.fit_transform(X_census).toarray()"
      ],
      "metadata": {
        "id": "A_lIrQy2WrmQ"
      },
      "execution_count": 36,
      "outputs": []
    },
    {
      "cell_type": "code",
      "source": [
        "X_census"
      ],
      "metadata": {
        "colab": {
          "base_uri": "https://localhost:8080/"
        },
        "id": "tu4eAc2aXVIs",
        "outputId": "4088850f-c313-47f4-9a6a-1cd16bd06dac"
      },
      "execution_count": 37,
      "outputs": [
        {
          "output_type": "execute_result",
          "data": {
            "text/plain": [
              "array([[0.0000e+00, 0.0000e+00, 0.0000e+00, ..., 2.1740e+03, 0.0000e+00,\n",
              "        4.0000e+01],\n",
              "       [0.0000e+00, 0.0000e+00, 0.0000e+00, ..., 0.0000e+00, 0.0000e+00,\n",
              "        1.3000e+01],\n",
              "       [0.0000e+00, 0.0000e+00, 0.0000e+00, ..., 0.0000e+00, 0.0000e+00,\n",
              "        4.0000e+01],\n",
              "       ...,\n",
              "       [0.0000e+00, 0.0000e+00, 0.0000e+00, ..., 0.0000e+00, 0.0000e+00,\n",
              "        4.0000e+01],\n",
              "       [0.0000e+00, 0.0000e+00, 0.0000e+00, ..., 0.0000e+00, 0.0000e+00,\n",
              "        2.0000e+01],\n",
              "       [0.0000e+00, 0.0000e+00, 0.0000e+00, ..., 1.5024e+04, 0.0000e+00,\n",
              "        4.0000e+01]])"
            ]
          },
          "metadata": {},
          "execution_count": 37
        }
      ]
    },
    {
      "cell_type": "code",
      "source": [
        "X_census[0]"
      ],
      "metadata": {
        "colab": {
          "base_uri": "https://localhost:8080/"
        },
        "id": "Ghv20kaNXg77",
        "outputId": "a601e16c-cbcc-476f-f4d2-79a270f7c503"
      },
      "execution_count": 38,
      "outputs": [
        {
          "output_type": "execute_result",
          "data": {
            "text/plain": [
              "array([0.0000e+00, 0.0000e+00, 0.0000e+00, 0.0000e+00, 0.0000e+00,\n",
              "       0.0000e+00, 0.0000e+00, 1.0000e+00, 0.0000e+00, 0.0000e+00,\n",
              "       0.0000e+00, 0.0000e+00, 0.0000e+00, 0.0000e+00, 0.0000e+00,\n",
              "       0.0000e+00, 0.0000e+00, 0.0000e+00, 1.0000e+00, 0.0000e+00,\n",
              "       0.0000e+00, 0.0000e+00, 0.0000e+00, 0.0000e+00, 0.0000e+00,\n",
              "       0.0000e+00, 0.0000e+00, 0.0000e+00, 0.0000e+00, 1.0000e+00,\n",
              "       0.0000e+00, 0.0000e+00, 0.0000e+00, 1.0000e+00, 0.0000e+00,\n",
              "       0.0000e+00, 0.0000e+00, 0.0000e+00, 0.0000e+00, 0.0000e+00,\n",
              "       0.0000e+00, 0.0000e+00, 0.0000e+00, 0.0000e+00, 0.0000e+00,\n",
              "       0.0000e+00, 0.0000e+00, 0.0000e+00, 1.0000e+00, 0.0000e+00,\n",
              "       0.0000e+00, 0.0000e+00, 0.0000e+00, 0.0000e+00, 0.0000e+00,\n",
              "       0.0000e+00, 0.0000e+00, 1.0000e+00, 0.0000e+00, 1.0000e+00,\n",
              "       0.0000e+00, 0.0000e+00, 0.0000e+00, 0.0000e+00, 0.0000e+00,\n",
              "       0.0000e+00, 0.0000e+00, 0.0000e+00, 0.0000e+00, 0.0000e+00,\n",
              "       0.0000e+00, 0.0000e+00, 0.0000e+00, 0.0000e+00, 0.0000e+00,\n",
              "       0.0000e+00, 0.0000e+00, 0.0000e+00, 0.0000e+00, 0.0000e+00,\n",
              "       0.0000e+00, 0.0000e+00, 0.0000e+00, 0.0000e+00, 0.0000e+00,\n",
              "       0.0000e+00, 0.0000e+00, 0.0000e+00, 0.0000e+00, 0.0000e+00,\n",
              "       0.0000e+00, 0.0000e+00, 0.0000e+00, 0.0000e+00, 0.0000e+00,\n",
              "       0.0000e+00, 0.0000e+00, 0.0000e+00, 0.0000e+00, 1.0000e+00,\n",
              "       0.0000e+00, 0.0000e+00, 3.9000e+01, 7.7516e+04, 1.3000e+01,\n",
              "       2.1740e+03, 0.0000e+00, 4.0000e+01])"
            ]
          },
          "metadata": {},
          "execution_count": 38
        }
      ]
    },
    {
      "cell_type": "code",
      "source": [
        "X_census.shape"
      ],
      "metadata": {
        "colab": {
          "base_uri": "https://localhost:8080/"
        },
        "id": "8KTKnAtpX5sE",
        "outputId": "c87b4f42-3120-4623-ba30-819f114ef452"
      },
      "execution_count": 39,
      "outputs": [
        {
          "output_type": "execute_result",
          "data": {
            "text/plain": [
              "(32561, 108)"
            ]
          },
          "metadata": {},
          "execution_count": 39
        }
      ]
    },
    {
      "cell_type": "markdown",
      "source": [
        "## Escalonamento dos valores\n",
        "\n",
        "De: Valores com escalas difrentees (ex: age 17-90, education-num 1-16, hour-per-week 1-99)\n",
        "Para: Valores com médias próximas de 0 e desvios padrão próximos de 1"
      ],
      "metadata": {
        "id": "WGfCf-ngYMtd"
      }
    },
    {
      "cell_type": "code",
      "source": [
        "scaler_census = StandardScaler()\n",
        "X_census = scaler_census.fit_transform(X_census)"
      ],
      "metadata": {
        "id": "CO6RfeDCYtlO"
      },
      "execution_count": 40,
      "outputs": []
    },
    {
      "cell_type": "code",
      "source": [
        "X_census[0]"
      ],
      "metadata": {
        "colab": {
          "base_uri": "https://localhost:8080/"
        },
        "id": "WasMqu3DY2CX",
        "outputId": "ea8fe55b-3cca-4dd2-8a64-02e948303e59"
      },
      "execution_count": 41,
      "outputs": [
        {
          "output_type": "execute_result",
          "data": {
            "text/plain": [
              "array([-0.2444502 , -0.17429511, -0.26209736, -0.01466381, -1.5167923 ,\n",
              "       -0.18838933, -0.29093568,  4.90769968, -0.02073999, -0.17175325,\n",
              "       -0.19348662, -0.11609195, -0.07201601, -0.10164955, -0.1422718 ,\n",
              "       -0.12664495, -0.18406376, -0.21053433,  2.25399324, -0.11334387,\n",
              "       -0.68994199, -0.23637391, -0.03960742, -0.13419553, -0.53714425,\n",
              "       -0.39750806, -0.02658695, -0.92284068, -0.11403678,  1.43105786,\n",
              "       -0.1802846 , -0.17735813, -0.24494366,  2.76348874, -0.01662771,\n",
              "       -0.37949517, -0.37774555, -0.17745022, -0.20957797, -0.25595432,\n",
              "       -0.33554133, -0.06780164, -0.38166338, -0.14260848, -0.35531609,\n",
              "       -0.17127887, -0.22710355, -0.82533335,  1.70899099, -0.17624972,\n",
              "       -0.42934582, -0.34403232, -0.22492681, -0.09820087, -0.18155194,\n",
              "       -0.32576824, -0.09161163,  0.4130197 , -0.70307135,  0.70307135,\n",
              "       -0.13502327, -0.02416321, -0.06107342, -0.0480488 , -0.04260602,\n",
              "       -0.05409379, -0.04641598, -0.02933708, -0.05714946, -0.05264698,\n",
              "       -0.02985682, -0.06500204, -0.02985682, -0.04437806, -0.03678503,\n",
              "       -0.00554189, -0.01998525, -0.02479131, -0.01998525, -0.05550333,\n",
              "       -0.03636406, -0.02715919, -0.04740236, -0.04993839, -0.04367781,\n",
              "       -0.02351838, -0.1419344 , -0.03233087, -0.02073999, -0.03087016,\n",
              "       -0.07821827, -0.04296623, -0.03372864, -0.05927412, -0.01920091,\n",
              "       -0.0496284 , -0.03960742, -0.02351838, -0.02416321,  0.34095391,\n",
              "       -0.04540836, -0.02217266,  0.03067056, -1.06361075,  1.13473876,\n",
              "        0.1484529 , -0.21665953, -0.03542945])"
            ]
          },
          "metadata": {},
          "execution_count": 41
        }
      ]
    },
    {
      "cell_type": "markdown",
      "source": [
        "## Divisão da base em treinamento e teste"
      ],
      "metadata": {
        "id": "b7uYr0HGZU1C"
      }
    },
    {
      "cell_type": "code",
      "source": [
        "X_census_treinamento, X_census_teste, y_census_treinamento, y_census_teste = train_test_split(X_census, y_census, test_size = 0.15, random_state = 0)"
      ],
      "metadata": {
        "id": "n5IpkIdmZZfj"
      },
      "execution_count": 42,
      "outputs": []
    },
    {
      "cell_type": "code",
      "source": [
        "X_census_treinamento.shape, y_census_treinamento.shape"
      ],
      "metadata": {
        "colab": {
          "base_uri": "https://localhost:8080/"
        },
        "id": "BdAop3zEZ6XN",
        "outputId": "4ac9c9ce-5212-4cae-f4c4-c8707625c223"
      },
      "execution_count": 43,
      "outputs": [
        {
          "output_type": "execute_result",
          "data": {
            "text/plain": [
              "((27676, 108), (27676,))"
            ]
          },
          "metadata": {},
          "execution_count": 43
        }
      ]
    },
    {
      "cell_type": "markdown",
      "source": [
        "## Salvar as variáveis"
      ],
      "metadata": {
        "id": "efeSZEfnaSM_"
      }
    },
    {
      "cell_type": "code",
      "source": [
        "with open (caminho + 'census.pkl', mode = 'wb') as f:\n",
        "  pickle.dump([X_census_treinamento, y_census_treinamento, X_census_teste, y_census_teste], f)"
      ],
      "metadata": {
        "id": "gYAPuiVLaQ9B"
      },
      "execution_count": 44,
      "outputs": []
    }
  ]
}