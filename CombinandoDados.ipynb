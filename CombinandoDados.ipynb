{
  "nbformat": 4,
  "nbformat_minor": 0,
  "metadata": {
    "colab": {
      "provenance": [],
      "authorship_tag": "ABX9TyOfz+/iryn7wAK8tZB3XpPi"
    },
    "kernelspec": {
      "name": "python3",
      "display_name": "Python 3"
    },
    "language_info": {
      "name": "python"
    }
  },
  "cells": [
    {
      "cell_type": "code",
      "execution_count": 3,
      "metadata": {
        "colab": {
          "base_uri": "https://localhost:8080/"
        },
        "id": "AVGL1SRNu2K1",
        "outputId": "e65569ab-2103-4a41-93ad-25802104be0f"
      },
      "outputs": [
        {
          "output_type": "stream",
          "name": "stdout",
          "text": [
            "  loja  dia  valor\n",
            "0    A  sex   7500\n",
            "1    A  sab   9500\n",
            "2    A  dom   8200\n",
            "3    B  sex   5100\n",
            "4    B  sab   8250\n",
            "5    B  dom   9900\n",
            "6    C  sex   7500\n",
            "7    C  sab  11800\n"
          ]
        }
      ],
      "source": [
        "import pandas as pd\n",
        "\n",
        "lojaA = pd.DataFrame({\"loja\": [\"A\",\"A\", \"A\"],\n",
        "                      \"dia\": [\"sex\", \"sab\", \"dom\"],\n",
        "                      \"valor\": [7500, 9500, 8200]}\n",
        "                     )\n",
        "\n",
        "lojaB = pd.DataFrame({\"loja\": [\"B\",\"B\", \"B\"],\n",
        "                      \"dia\": [\"sex\", \"sab\", \"dom\"],\n",
        "                      \"valor\": [5100, 8250, 9900]}\n",
        "                     )\n",
        "\n",
        "lojaC = pd.DataFrame({\"loja\": [\"C\",\"C\"],\n",
        "                      \"dia\": [\"sex\", \"sab\"],\n",
        "                      \"valor\": [7500, 11800]}\n",
        "                     )\n",
        "\n",
        "lojaABC = pd.concat([lojaA, lojaB, lojaC], ignore_index=True)\n",
        "print(lojaABC)"
      ]
    },
    {
      "cell_type": "code",
      "source": [
        "import pandas as pd\n",
        "\n",
        "d1 = pd.DataFrame({\"carro\": [\"Hyundai\", \"Renault\", \"Fiat\"]})\n",
        "d2 = pd.DataFrame({\"animal\": [\"Capivara\", \"Bem-ti-vi\"]})\n",
        "\n",
        "d3 = pd.concat([d1, d2], ignore_index=True, sort=False)\n",
        "print(d3)"
      ],
      "metadata": {
        "colab": {
          "base_uri": "https://localhost:8080/"
        },
        "id": "tzk5iCOW1hjO",
        "outputId": "90f3a8e6-3636-473e-be0a-1842fd6e0413"
      },
      "execution_count": 5,
      "outputs": [
        {
          "output_type": "stream",
          "name": "stdout",
          "text": [
            "     carro     animal\n",
            "0  Hyundai        NaN\n",
            "1  Renault        NaN\n",
            "2     Fiat        NaN\n",
            "3      NaN   Capivara\n",
            "4      NaN  Bem-ti-vi\n"
          ]
        }
      ]
    },
    {
      "cell_type": "code",
      "source": [
        "import pandas as pd\n",
        "\n",
        "df_sql = pd.DataFrame({\"email\": [\"elza.=_peixoto@astconsult.com.br\", \"carlos_pires@piscinasegura.com.br\"]})\n",
        "\n",
        "df_python = pd.DataFrame({\"email\": [\"elza.=_peixoto@astconsult.com.br\",\n",
        "                                    \"roberto_moreira@gruporeis.net\", \"alice.nicole.barbosa@bb.com.br\"]})\n",
        "\n",
        "# União (relacao de emails distintos)\n",
        "alunos = pd.concat([df_sql, df_python], ignore_index=True)\n",
        "alunos = alunos.drop_duplicates()\n",
        "\n",
        "# Interseção (quem fez ambos os cursos)\n",
        "sql_e_python = df_sql.merge(df_python)\n",
        "\n",
        "# Difença (quem fez só SQL e fez só Python)\n",
        "so_sql = df_sql[df_sql.email.isin(df_python.email)==False]\n",
        "so_python = df_python[df_python.email.isin(df_sql.email)==False]\n",
        "\n",
        "print(\"Alunos Distintos:\\n\", alunos)\n",
        "print(\"Alunos que fizeram SQL e Ptyhon:\\n\", sql_e_python)\n",
        "print(\"Alunos que fizeram apenas SQL:\\n\", so_sql)\n",
        "print(\"Alunos que fizeram apenas Python:\\n\", so_python)\n"
      ],
      "metadata": {
        "colab": {
          "base_uri": "https://localhost:8080/"
        },
        "id": "GDc593EQJav-",
        "outputId": "988e7743-a4eb-4d16-d87c-c22636a5f861"
      },
      "execution_count": 8,
      "outputs": [
        {
          "output_type": "stream",
          "name": "stdout",
          "text": [
            "Alunos Distintos:\n",
            "                                email\n",
            "0   elza.=_peixoto@astconsult.com.br\n",
            "1  carlos_pires@piscinasegura.com.br\n",
            "3      roberto_moreira@gruporeis.net\n",
            "4     alice.nicole.barbosa@bb.com.br\n",
            "Alunos que fizeram SQL e Ptyhon:\n",
            "                               email\n",
            "0  elza.=_peixoto@astconsult.com.br\n",
            "Alunos que fizeram apenas SQL:\n",
            "                                email\n",
            "1  carlos_pires@piscinasegura.com.br\n",
            "Alunos que fizeram apenas Python:\n",
            "                             email\n",
            "1   roberto_moreira@gruporeis.net\n",
            "2  alice.nicole.barbosa@bb.com.br\n"
          ]
        }
      ]
    },
    {
      "cell_type": "code",
      "source": [
        "import pandas as pd\n",
        "from google.colab import drive\n",
        "drive.mount('/content/drive')"
      ],
      "metadata": {
        "colab": {
          "base_uri": "https://localhost:8080/"
        },
        "id": "fpd5VJtXOIoP",
        "outputId": "1ad969a8-87f4-4454-9dc7-39f98d4cd53e"
      },
      "execution_count": 9,
      "outputs": [
        {
          "output_type": "stream",
          "name": "stdout",
          "text": [
            "Mounted at /content/drive\n"
          ]
        }
      ]
    },
    {
      "cell_type": "code",
      "source": [
        "# Importando os dados\n",
        "\n",
        "flags = pd.read_csv(\"/content/drive/MyDrive/CDSI/MaterialApoio/flags.csv\")\n",
        "countries = pd.read_csv(\"/content/drive/MyDrive/CDSI/MaterialApoio/countries.csv\")\n",
        "\n",
        "num_linhas_flags = flags.shape[0]\n",
        "num_linhas_countries = countries.shape[0]\n",
        "\n",
        "# Junção interna:\n",
        "ambas = pd.merge(flags, countries, how=\"left\", left_on=\"name\", right_on=\"country\")\n",
        "num_linhas_ambas = ambas.shape[0]\n",
        "\n",
        "# Left Join: paises apenas em flags\n",
        "so_flags = pd.merge(flags, countries, how=\"left\", left_on=\"name\", right_on=\"country\")\n",
        "so_flags = so_flags[pd.isnull(so_flags['country'])==True]\n",
        "num_linhas_so_flags = so_flags.shape[0]\n",
        "\n",
        "# Rigth Join: paises apenas em countries\n",
        "so_countries = pd.merge(flags, countries, how=\"right\", left_on=\"name\", right_on=\"country\")\n",
        "so_countries = so_countries[pd.isnull(so_countries['name'])==True]\n",
        "num_linhas_so_countries = so_countries.shape[0]\n",
        "\n",
        "\n",
        "print(\"Numero de países em 'flags': \", num_linhas_flags)\n",
        "print(\"Numero de países em 'countries': \", num_linhas_countries)\n",
        "print(\"Numero de países comuns a ambas as bases: \", num_linhas_ambas)\n",
        "print(\"Numero de países apenas em 'flags': \", num_linhas_so_flags)\n",
        "print(\"Numero de países apenas em  'countries': \", num_linhas_so_countries)"
      ],
      "metadata": {
        "colab": {
          "base_uri": "https://localhost:8080/"
        },
        "id": "WEDHzEN6OV_4",
        "outputId": "1ed54dfa-321c-4813-8b17-b7259af5d8c6"
      },
      "execution_count": 15,
      "outputs": [
        {
          "output_type": "stream",
          "name": "stdout",
          "text": [
            "Numero de países em 'flags':  194\n",
            "Numero de países em 'countries':  227\n",
            "Numero de países comuns a ambas as bases:  194\n",
            "Numero de países apenas em 'flags':  17\n",
            "Numero de países apenas em  'countries':  50\n"
          ]
        }
      ]
    }
  ]
}